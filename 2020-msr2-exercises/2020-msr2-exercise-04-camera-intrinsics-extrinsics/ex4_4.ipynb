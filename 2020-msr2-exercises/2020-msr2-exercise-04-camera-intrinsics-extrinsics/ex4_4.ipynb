{
 "cells": [
  {
   "cell_type": "markdown",
   "metadata": {},
   "source": [
    "# Estimating Relative Orientation using Essential Matrix "
   ]
  },
  {
   "cell_type": "markdown",
   "metadata": {},
   "source": [
    "In this exercise your tasks are to estimate the essential matrix given two images and estimate the relative orientation based on the estimated essential matrix. Two images of the checkerboard cube and the intrinsic matrix (K) are given."
   ]
  },
  {
   "cell_type": "markdown",
   "metadata": {},
   "source": [
    "## 4.4.0 Data: 3D Cube with checkerboard pattern"
   ]
  },
  {
   "cell_type": "code",
   "execution_count": null,
   "metadata": {},
   "outputs": [],
   "source": [
    "import numpy as np\n",
    "import matplotlib.pyplot as plt\n",
    "import ex4_4 as ex\n",
    "\n",
    "K = np.array(\n",
    " [[-1.23543537e+03,  1.08226965e+01,  2.82869653e+02],\n",
    "  [-0.00000000e+00, -1.23745635e+03,  4.69737272e+02],\n",
    "  [+0.00000000e+00,  0.00000000e+00,  1.00000000e+00]])\n",
    "\n",
    "# load the input image\n",
    "fig = plt.figure()\n",
    "fig.add_subplot(1,2,1)\n",
    "I1 = plt.imread('data/checkerboard_cube/cube0.jpg')\n",
    "plt.imshow(I1, cmap = 'gray')\n",
    "\n",
    "fig.add_subplot(1,2,2)\n",
    "I2 = plt.imread('data/checkerboard_cube/cube1.jpg')\n",
    "plt.imshow(I2, cmap = 'gray')\n",
    "plt.show()"
   ]
  },
  {
   "cell_type": "markdown",
   "metadata": {},
   "source": [
    "## 4.4.1 Select enough correspondences to estimate the Essential Matrix [5.0]"
   ]
  },
  {
   "cell_type": "code",
   "execution_count": null,
   "metadata": {},
   "outputs": [],
   "source": [
    "import matplotlib\n",
    "matplotlib.use('TkAgg')\n",
    "\n",
    "num_corr = None  # please sepecify the needed points here\n",
    "new_order = [1, 0]  # Switch x & y axis st normal from image plane is towards camera origin\n",
    "\n",
    "print(\"\\n Please click \", num_corr, \" points in the first image...\\n\")\n",
    "\n",
    "# Get observed correspondences from user\n",
    "I1 = plt.imread('data/checkerboard_cube/cube0.jpg')\n",
    "plt.imshow(I1, cmap='gray')\n",
    "pts1 = np.array(plt.ginput(num_corr))\n",
    "pts1 = pts1[:, new_order]\n",
    "\n",
    "pts1 = ex.gen_homogeneous_pts(pts1)\n",
    "print(\"\\n points in the first image:\\n \", pts1)\n",
    "\n",
    "print(\"\\n Please click \", num_corr, \" corresponding points in the second image...\\n\")\n",
    "\n",
    "I2 = plt.imread('data/checkerboard_cube/cube1.jpg')\n",
    "plt.imshow(I2, cmap='gray')\n",
    "pts2 = np.array(plt.ginput(num_corr))\n",
    "pts2 = pts2[:, new_order]\n",
    "    \n",
    "pts2 = ex.gen_homogeneous_pts(pts2)    \n",
    "print(\"\\n points in the second image:\\n \", pts1)\n",
    "\n",
    "# compute essential matrix from point pairs\n",
    "E = ex.E_from_point_pairs(pts1, pts2, K)\n",
    "print('\\n Essential Matrix:\\n', E)"
   ]
  },
  {
   "cell_type": "markdown",
   "metadata": {},
   "source": [
    "## 4.4.2 Estimate the relative orientation based on the Essential matrix [5.0]"
   ]
  },
  {
   "cell_type": "code",
   "execution_count": null,
   "metadata": {},
   "outputs": [],
   "source": [
    "# given E compute relative orientation\",\n",
    "Z = np.array([[ 0, 1, 0],\n",
    "              [-1, 0, 0],\n",
    "              [ 0, 0, 0]])\n",
    "W = np.array([[0, -1, 0],\n",
    "              [1,  0, 0],\n",
    "              [0,  0, 1]])\n",
    "\n",
    "W_CHECK = [W, W.T]\n",
    "Z_CHECK = [Z, Z.T]\n",
    "\n",
    "for w in W_CHECK:\n",
    "    for z in Z_CHECK:\n",
    "        R, Sb = ex.relative_orientation_from_E(E, z, w)\n",
    "        b = np.array([-Sb[1, 2], Sb[0, 2], -Sb[0, 1]])\n",
    "\n",
    "        # Triangulate points in coord system of 1st cam\n",
    "        X0 = ex.triangulate_points(pts1, pts2, K, R, b)\n",
    "\n",
    "        # Triangulated points in coord system of 2nd cam\n",
    "        X1 = np.dot(R.T, X0 - np.expand_dims(b, 1))\n",
    "\n",
    "        if ex.point_in_front_of_cam(X0) and ex.point_in_front_of_cam(X1):\n",
    "            print('Final Rotation:\\n', R)\n",
    "            R_final = R\n",
    "            print('Final Baseline:\\n', b)\n",
    "            b_final = b"
   ]
  },
  {
   "cell_type": "code",
   "execution_count": null,
   "metadata": {},
   "outputs": [],
   "source": []
  }
 ],
 "metadata": {
  "kernelspec": {
   "display_name": "Python 3",
   "language": "python",
   "name": "python3"
  },
  "language_info": {
   "codemirror_mode": {
    "name": "ipython",
    "version": 3
   },
   "file_extension": ".py",
   "mimetype": "text/x-python",
   "name": "python",
   "nbconvert_exporter": "python",
   "pygments_lexer": "ipython3",
   "version": "3.6.9"
  }
 },
 "nbformat": 4,
 "nbformat_minor": 4
}
