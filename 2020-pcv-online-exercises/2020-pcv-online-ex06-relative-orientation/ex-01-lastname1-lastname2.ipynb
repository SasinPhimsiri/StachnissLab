{
 "cells": [
  {
   "cell_type": "markdown",
   "metadata": {},
   "source": [
    "## Exercise in Photogrammetry II\n",
    "# Ex. 01 Relative Orientation\n",
    "### Submission: xx.xx.xxxx \n",
    "### Points: 24"
   ]
  },
  {
   "cell_type": "markdown",
   "metadata": {},
   "source": [
    "## A Fundamental matrix basics\n",
    "\n",
    "In the lecture, you were introduced to the concept of the fundamental matrix. Complete the exercise below to strengthen your understanding.\n",
    "\n",
    "**DATA:** Extract the data from the provided zip file with the password: photo\n",
    "\n",
    "**Tasks:**\n",
    "\n",
    "1.  You are given the position and orientation of two *ideal* cameras in world coordinate frame $(c=1)$. Position of camera $C_1$ is $X_0^1=[0,0,0]^T$ and of camera $C_2$ is $X_0^2=[2,5,0]^T$. The cameras viewing directions are along z-axis. The orientation of the $C_1$ and $C_2$ are provided as ```R_1``` and ```R_2```. Construct the fundamental matrix F_12. (2 Points)\n"
   ]
  },
  {
   "cell_type": "code",
   "execution_count": 1,
   "metadata": {},
   "outputs": [
    {
     "name": "stdout",
     "output_type": "stream",
     "text": [
      "R_1: [[1. 0. 0.]\n",
      " [0. 1. 0.]\n",
      " [0. 0. 1.]]\n",
      "R_2: [[ 0.70710678 -0.70710678  0.        ]\n",
      " [ 0.70710678  0.70710678  0.        ]\n",
      " [ 0.          0.          1.        ]]\n"
     ]
    }
   ],
   "source": [
    "import numpy as np \n",
    "%matplotlib notebook\n",
    "R_1 = np.eye(3)\n",
    "R_2 = np.array([[np.sqrt(0.5),-np.sqrt(0.5),0],[np.sqrt(0.5),np.sqrt(0.5),0],[0,0,1]])\n",
    "\n",
    "print('R_1:',R_1)\n",
    "print('R_2:',R_2)"
   ]
  },
  {
   "cell_type": "markdown",
   "metadata": {},
   "source": [
    "2. The bilinear form $x'^TFx'' = 0$ encodes the coplanarity constraint and can be simplified to a matrix multiplication using Kronecker product $\\otimes$. Show that $x'^TFx'' = 0$, $F\\in \\mathbb{R}^{3\\times3}$ is equivalent to $(x''\\otimes x')^Tf$, where $f \\in \\mathbb{R}^{9\\times1}$. You can either use markdown or plot an image of some handwritten notes for example. (4 Points)"
   ]
  },
  {
   "cell_type": "markdown",
   "metadata": {},
   "source": [
    "## B Epipolar geometry\n",
    "\n",
    "You are given a fundamental matrix $F_{12}$ between the images $I_1$ and $I_2$ originated from camera $C_1$ and $C_2$ respectively.\n",
    "\n",
    "4. How to estimate fo a given point e'' in $I_2$ if it is the epipole of the camera $C_1$? (1 Point)\n",
    "5. Similarly, how to check if e' is an epipole in $I_1$? (1 Point)\n",
    "6. Estimate the image coordinates of both epipoles e' and e''. (4 Points) \n",
    "\n",
    "The fundamental matrix $F_{12}$ consists of the following values:"
   ]
  },
  {
   "cell_type": "code",
   "execution_count": 2,
   "metadata": {},
   "outputs": [],
   "source": [
    "F_12 = np.array([[-2,-4,12],\n",
    "                [6,-2,-8],\n",
    "                [8,-4,-8]])"
   ]
  },
  {
   "cell_type": "markdown",
   "metadata": {},
   "source": [
    "## C Seeing epipolar lines\n",
    "In this exercise you will learn to visualize the epipolar lines.\n",
    "\n",
    "7. Use the image point correspondences from the exercise A and the fundamental matrix to write a code that visualizes for every image point from image $I_1$ the corresponding epipolar lines on the image $I_2$. Plot also the correspondend points in $I_2$ (8 Points)"
   ]
  },
  {
   "cell_type": "markdown",
   "metadata": {},
   "source": [
    "## D Epipolar geometry for the normal case\n",
    "\n",
    "In the lecture you were introduced to the epipolar geometry for the general case. In this exercise your task is to adapt the general formulation to the stereo normal case.\n",
    "\n",
    "8. Draw the epipolar geometry with all the neccessary variables. You can draw it by hand or your prefered tools. (4 Points)\n",
    "\n"
   ]
  }
 ],
 "metadata": {
  "kernelspec": {
   "display_name": "Python 3",
   "language": "python",
   "name": "python3"
  },
  "language_info": {
   "codemirror_mode": {
    "name": "ipython",
    "version": 3
   },
   "file_extension": ".py",
   "mimetype": "text/x-python",
   "name": "python",
   "nbconvert_exporter": "python",
   "pygments_lexer": "ipython3",
   "version": "3.8.5"
  }
 },
 "nbformat": 4,
 "nbformat_minor": 2
}
