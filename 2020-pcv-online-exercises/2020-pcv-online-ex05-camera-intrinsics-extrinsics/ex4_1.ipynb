{
 "cells": [
  {
   "cell_type": "markdown",
   "metadata": {},
   "source": [
    "# Estimating Projection Matrix using Direction Linear Transform (DLT)"
   ]
  },
  {
   "cell_type": "markdown",
   "metadata": {},
   "source": [
    "The goal of this exercise is to estimate the projection matrix from 3D-2D correspondences using the DLT algorithm.\n",
    "\n",
    "1. Requirements:  Knowledge about homogeneous coordinates, singular value decomposition, lecture 13 on direct linear transformation\n",
    "\n",
    "2. Learning goals:\n",
    "  - Estimation of a projection matrix from given image and object points. \n",
    "  - Determination of the calibration parameters from the projection matrix. \n",
    "  - Assessment of the reprojection error of the estimated projection matrix."
   ]
  },
  {
   "cell_type": "markdown",
   "metadata": {},
   "source": [
    "## 4.1.0 Data: 3D Cube with checkerboard pattern\n",
    "\n",
    "We use a 3D cube with a checkerboard pattern to get the correspondences between the 3D points on the cube and 2D points in the image. The checkboard pattern allows to compute the 3D points simply by computing the number of boxes along the axes. The origin of the coordinates is at the nearest corner of the cube with respect to the current view as depicted below. The axes are aligned along the edges of the cube with X-axis, Y-axis and Z-axis shown in red, blue and green respectively"
   ]
  },
  {
   "cell_type": "code",
   "execution_count": null,
   "metadata": {},
   "outputs": [],
   "source": [
    "import matplotlib\n",
    "matplotlib.use('TkAgg')\n",
    "import numpy as np\n",
    "import matplotlib.pyplot as plt\n",
    "import ex4_1 as ex\n",
    "\n",
    "# load the input image\n",
    "I = plt.imread('data/checkerboard_cube/cube_origin.png')\n",
    "plt.imshow(I)\n",
    "plt.show()"
   ]
  },
  {
   "cell_type": "markdown",
   "metadata": {},
   "source": [
    "## 4.1.1 Get 3D-2D correspondences[2.5]\n",
    "\n",
    "Load the first image of cube `cube0.jpg` from the data folder `data/checkerboard_cube`. Choose a set of 3D points $X$ on the cube (control points) and find the corresponding points in the image by clicking.\n",
    "\n",
    "**Hint:** \n",
    "- To avoid clicking the points again with every test run, you can save them using numpy save and later load them."
   ]
  },
  {
   "cell_type": "code",
   "execution_count": null,
   "metadata": {},
   "outputs": [],
   "source": [
    "# load the input image\n",
    "I = plt.imread('data/checkerboard_cube/cube0.jpg')\n",
    "plt.imshow(I, cmap = 'gray')\n",
    "\n",
    "# Define 3D control points (Minimum of 6 Points)\n",
    "X = [[0, 0, 0],\n",
    "     [7, 0, 0],\n",
    "     [7, 0, 7],\n",
    "     [0, 0, 7],\n",
    "     [7, 9, 7],\n",
    "     [0, 9, 7],\n",
    "     [0, 9, 0]]\n",
    "X = np.array(X)\n",
    "print(\"3D points: \\n\", X)\n",
    "\n",
    "print(\" \\n Please click the corresponding points in the image following the order of given 3D points!\")\n",
    "\n",
    "# Get observed points from user\n",
    "x = np.array(plt.ginput(len(X)))\n",
    "new_order = [1, 0] # Switch x & y axis st normal from image plane is towards camera origin\n",
    "x = x[:, new_order]\n",
    "print(\"\\n corresponding image coordinates: \\n\", x)\n",
    "\n",
    "plt.plot(x[:, 1], x[:, 0], 'rx')\n",
    "plt.show()"
   ]
  },
  {
   "cell_type": "markdown",
   "metadata": {},
   "source": [
    "## 4.1.2 Compute projection matrix using DLT [5.0]\n",
    "\n",
    "Implement the function `dlt` which estimates the projection matrix P from the 3D-2D correspodences generated in the previous step. Print the estimated projection matrix $P$.  \n"
   ]
  },
  {
   "cell_type": "code",
   "execution_count": null,
   "metadata": {},
   "outputs": [],
   "source": [
    "# perform dlt\n",
    "P = ex.dlt(x, X)\n",
    "print(\"\\n The estimated projection matrix: \\n\", P)"
   ]
  },
  {
   "cell_type": "markdown",
   "metadata": {},
   "source": [
    "## 4.1.3 Determination of the calibration parameters [5.0]\n",
    "Determine the intrinsic matrix **K**, and the extrinsics, i.e. the rotation matrix **R** and the projection center **X0** from the estimated projection matrix $P$. Implement this in the function `decompose_P` and print the results."
   ]
  },
  {
   "cell_type": "code",
   "execution_count": null,
   "metadata": {},
   "outputs": [],
   "source": [
    "# decompose projection matrix to get instrinsics and extrinsics\n",
    "[K, R, X0] = ex.decompose_P(P)\n",
    "\n",
    "print('Intrinsic matrix: ', K)\n",
    "print('Extrinsic matrix: ', \"\\n R: \\n\", R, \"\\n X0: \\n\", X0)"
   ]
  },
  {
   "cell_type": "markdown",
   "metadata": {},
   "source": [
    "## 4.1.4 Assessment of the reprojection error [2.5]\n",
    "Check the estimated projection matrix using the back projection errors. This is obtained by projecting the object points back into the image and comparing them with the given image points. \n",
    "\n",
    "**Hints**\n",
    "- You should create the projection matrix again from the extracted calibration parameters and projects the object points into the image. \n",
    "- Show the given and the backprojected points together in the image. \n",
    "- Determine the distances between given and back-projected pixels. "
   ]
  },
  {
   "cell_type": "code",
   "execution_count": null,
   "metadata": {},
   "outputs": [],
   "source": [
    "# generate homogeneous 3D points\n",
    "...\n",
    "\n",
    "# Compute reprojection error\n",
    "x_hat = None\n",
    "print(\"\\n reprojected image coordinates: \\n\", x_hat)\n",
    "\n",
    "err_reproj = None\n",
    "print(\"\\n The reprojection error: \", err_reproj)\n",
    "\n",
    "# Visualize observed and reprojected points\n",
    "plt.imshow(I, cmap = 'gray')\n",
    "...\n",
    "plt.show()"
   ]
  },
  {
   "cell_type": "code",
   "execution_count": null,
   "metadata": {},
   "outputs": [],
   "source": []
  }
 ],
 "metadata": {
  "kernelspec": {
   "display_name": "Python 3",
   "language": "python",
   "name": "python3"
  },
  "language_info": {
   "codemirror_mode": {
    "name": "ipython",
    "version": 3
   },
   "file_extension": ".py",
   "mimetype": "text/x-python",
   "name": "python",
   "nbconvert_exporter": "python",
   "pygments_lexer": "ipython3",
   "version": "3.6.9"
  }
 },
 "nbformat": 4,
 "nbformat_minor": 4
}
