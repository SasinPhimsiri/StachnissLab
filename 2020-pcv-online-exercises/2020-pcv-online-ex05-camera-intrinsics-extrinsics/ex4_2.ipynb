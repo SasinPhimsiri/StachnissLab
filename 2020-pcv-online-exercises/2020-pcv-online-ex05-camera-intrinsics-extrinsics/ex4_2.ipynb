{
 "cells": [
  {
   "cell_type": "markdown",
   "metadata": {},
   "source": [
    "# Camera Calibration (Intrinsics) Using Zhang's Method\n",
    "\n",
    "The aim of this exercise is to implement the Zhang's method to compute the camera intrinsics (K) given images of checkerboard pattern.  \n",
    "\n"
   ]
  },
  {
   "cell_type": "markdown",
   "metadata": {},
   "source": [
    "## 4.2.0 Data: Checkerboard images\n",
    "\n",
    "You are given provided with images of a checkerboard pattern taken from multiple views in the folder `data\\checkerboard_27mm`. The goal of this exercise is to determing the camera intrinsics $K$ by using correspondences between these images. The length of each square on the checkerboard is  27 mm. As the checkerboard is a plane, by choosing the origin of the world coordinate frame on the plane, the $Z$ coordinate can be considered as zero. See the example image below for an example coordinate frame."
   ]
  },
  {
   "cell_type": "code",
   "execution_count": null,
   "metadata": {},
   "outputs": [],
   "source": [
    "import numpy as np\n",
    "import matplotlib.pyplot as plt\n",
    "import ex4_2 as ex\n",
    "\n",
    "I0 = plt.imread('data/checkerboard_27mm/checkerboard0.jpg')\n",
    "I1 = plt.imread('data/checkerboard_27mm/checkerboard1.jpg')\n",
    "I2 = plt.imread('data/checkerboard_27mm/checkerboard2.jpg')\n",
    "I3 = plt.imread('data/checkerboard_27mm/checkerboard3.jpg')\n",
    "\n",
    "fig = plt.figure(figsize=(16, 4))\n",
    "plt.subplot(1,4,1)\n",
    "plt.imshow(I0, cmap = 'gray')\n",
    "plt.subplot(1,4,2)\n",
    "plt.imshow(I1, cmap = 'gray')\n",
    "plt.subplot(1,4,3)\n",
    "plt.imshow(I2, cmap = 'gray')\n",
    "plt.subplot(1,4,4)\n",
    "plt.imshow(I3, cmap = 'gray')\n",
    "plt.show()\n",
    "\n",
    "# Visualize origin \n",
    "I_origin = plt.imread('data/checkerboard_27mm/checkerboard0_origin.png')\n",
    "plt.imshow(I_origin)\n",
    "plt.title('Example Origin and rectangle')\n",
    "plt.show()\n",
    "\n",
    "\n",
    "    "
   ]
  },
  {
   "cell_type": "markdown",
   "metadata": {},
   "source": [
    "## 4.2.1 Get correspondences from Checkerboard images [2.5]\n",
    "\n",
    "Choose a set of 3D points $X$ on the checkerboard and find the corresponding points in the images by clicking. Visualize the points clicked points by plotting them over the corresponding images. \n",
    "\n",
    "Hint:\n",
    "- Note that you need to switch the (x,y) coordinates obtained by using the ginput function to be consistent with the coordinate frame used in the lecture.\n",
    "- You may use the corners of the yellow rectangle as shown as your control points.  \n",
    "- To avoid clicking the points again with every test run, you can save them using numpy save and later load them."
   ]
  },
  {
   "cell_type": "code",
   "execution_count": null,
   "metadata": {},
   "outputs": [],
   "source": [
    "import matplotlib\n",
    "matplotlib.use('TkAgg')\n",
    "\n",
    "\n",
    "# checkerboard board params \n",
    "board = [5, 7] # (Leaving out the outer columns and rows.)\n",
    "square = 0.027  #(27 mm)\n",
    "\n",
    "# Set 3D points (You may choose other points if you prefer)\n",
    "X = [[0, 0, 0],\n",
    "[0, board[1] * square, 0],\n",
    "[board[0] * square, board[1] * square, 0],\n",
    "[board[0] * square, 0, 0]]\n",
    "X = np.array(X)\n",
    "\n",
    "print('3D points: X = ', X)\n",
    "\n",
    "# Choose the corresponding points from the images\n",
    "# Image 0\n",
    "I0 = plt.imread('data/checkerboard_27mm/checkerboard0.jpg')\n",
    "plt.imshow(I0, cmap='gray')\n",
    "u = np.array(plt.ginput(4))\n",
    "x0 = u[:,[1,0]] # x and y coordinates from ginput are flipped wrt our notation\n",
    "print('x0 = ', x0)\n",
    "\n",
    "# Image 1\n",
    "I1 = plt.imread('data/checkerboard_27mm/checkerboard1.jpg')\n",
    "plt.imshow(I1, cmap='gray')\n",
    "u = np.array(plt.ginput(4))\n",
    "x1 = u[:,[1,0]] # x and y coordinates from ginput are flipped wrt our notation\n",
    "print('x1 = ', x1)\n",
    "\n",
    "# Image 2\n",
    "I2 = plt.imread('data/checkerboard_27mm/checkerboard2.jpg')\n",
    "plt.imshow(I2, cmap='gray')\n",
    "u = np.array(plt.ginput(4))\n",
    "x2 = u[:,[1,0]] # x and y coordinates from ginput are flipped wrt our notation\n",
    "print('x2 = ', x2)\n",
    "\n",
    "# Image 3\n",
    "I3 = plt.imread('data/checkerboard_27mm/checkerboard3.jpg')\n",
    "plt.imshow(I3, cmap='gray')\n",
    "u = np.array(plt.ginput(4))\n",
    "x3 = u[:,[1,0]] # x and y coordinates from ginput are flipped wrt our notation\n",
    "print('x3 = ', x3)\n",
    "plt.close()\n",
    "\n",
    "# TODO: Visualize the points you clicked for each of the image\n",
    "\n"
   ]
  },
  {
   "cell_type": "markdown",
   "metadata": {},
   "source": [
    "## 4.2.2 Compute Homography using DLT like algorithm [2.5]\n",
    "\n",
    "Compute the homography in `compute_homography` function for each image using the correspondences obtained in the previous step. "
   ]
  },
  {
   "cell_type": "code",
   "execution_count": null,
   "metadata": {},
   "outputs": [],
   "source": [
    "# Compute homography for each image\n",
    "H0 = ex.compute_homography(x0, X)\n",
    "H1 = ex.compute_homography(x1, X)\n",
    "H2 = ex.compute_homography(x2, X)\n",
    "H3 = ex.compute_homography(x3, X)\n",
    "\n",
    "print('H0 = ', H0)\n",
    "print('H1 = ', H1)\n",
    "print('H2 = ', H2)\n",
    "print('H3 = ', H3)"
   ]
  },
  {
   "cell_type": "markdown",
   "metadata": {},
   "source": [
    "## 4.2.3 Compute constraints matrix V [2.5]\n",
    "\n",
    "Compute the constraints matrix using the homographies computed in the previous step in the `compute_V` function."
   ]
  },
  {
   "cell_type": "code",
   "execution_count": null,
   "metadata": {},
   "outputs": [],
   "source": [
    "# Compute constraint matrix V\n",
    "V0 = ex.compute_V(H0)\n",
    "V1 = ex.compute_V(H1)\n",
    "V2 = ex.compute_V(H2)\n",
    "V3 = ex.compute_V(H3)\n",
    "\n",
    "# stack V from each image \n",
    "V = np.concatenate([V0, V1, V2, V3])\n",
    "\n",
    "print('Constraint matrix V = ', V)"
   ]
  },
  {
   "cell_type": "markdown",
   "metadata": {},
   "source": [
    "## 4.2.4 Compute camera intrinsics K [2.5]\n",
    "\n",
    "Compute the camera intrisics matrix $K$ from the constraints matrix $V$. Implement this in the `compute_K` function. \n",
    "\n",
    "\n",
    "Compare the estimate for $K$ obtained by Zhang's method to that of the estimate obtained using DLT. [Optional]"
   ]
  },
  {
   "cell_type": "code",
   "execution_count": null,
   "metadata": {},
   "outputs": [],
   "source": [
    "# compute K \n",
    "K = ex.compute_K(V)\n",
    "print('Camera Intrinsics (K) := ', K)\n",
    "\n"
   ]
  }
 ],
 "metadata": {
  "kernelspec": {
   "display_name": "Python 3",
   "language": "python",
   "name": "python3"
  },
  "language_info": {
   "codemirror_mode": {
    "name": "ipython",
    "version": 3
   },
   "file_extension": ".py",
   "mimetype": "text/x-python",
   "name": "python",
   "nbconvert_exporter": "python",
   "pygments_lexer": "ipython3",
   "version": "3.6.9"
  }
 },
 "nbformat": 4,
 "nbformat_minor": 4
}
