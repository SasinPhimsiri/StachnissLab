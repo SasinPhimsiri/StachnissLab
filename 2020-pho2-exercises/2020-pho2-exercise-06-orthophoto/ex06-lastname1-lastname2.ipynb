{
 "cells": [
  {
   "cell_type": "markdown",
   "metadata": {},
   "source": [
    "## Exercise in Photogrammetry II\n",
    "# Ex. 06 Orthophoto\n",
    "### Submission: 29.01.2021 \n",
    "### Points: 12"
   ]
  },
  {
   "cell_type": "markdown",
   "metadata": {},
   "source": [
    "\n",
    "In this exercise you need to construct the orthophoto given a regular, tilted image. \n",
    "We provide you the image `image.rect.jpg` as well as orientation data in form of projection matrix P in the file `P.mat` and Digital Surface Model (DSM) in file `Z.mat`. \n",
    "The image coordinate system is a left handed system with the origin in the upper left corner of the image.\n",
    "\n",
    "The DSM is given as matrix where for every point $(x, y)$ corresponds to the value of the height z. The origin of the object coordinate system lies in the left bottom corner. \n",
    "The distance in point space corresponds to the grid of $1\\times1 \\,mm$ in object space. The x-axis increases to the right.\n"
   ]
  },
  {
   "cell_type": "markdown",
   "metadata": {},
   "source": [
    "1. Read in the data (image,DSM,P) and *visualize* the DSM model (e.g. `plot_surface(...)`) and the image. Label the axes of both plots. (1 Point)\n",
    "2. Create the orthophoto from the given image and Digital Surface Model.\n",
    "We neglect the interpolation of orthophoto points in DSM and creating the orthophoto of the same dimensions as DSM so that every point of the DSM corresponds to the pixel in the orthophoto. \n",
    "For every point $(X,Y)$ of the orthophoto perform the following steps (6 Points):\n",
    "    - Get the height z, so that the point in the object space is $X=[x,y,z,1]^T$\n",
    "    - Compute the image pixel in the given image by projecting $X$ through $P$\n",
    "    - Estimate the color of the pixel in the orthophoto (nearest neighbor).\n",
    "3. Visualize the orthophoto next to the input image. Make sure that both images are in a lefthanded image coordinate system. (1 Point)\n",
    "4. {Text} Which errors typically occur in orthophotos? Provide for each error a brief explanation and an example from the orthophoto of task 3. (4 Points)\n",
    "\n",
    "**WARNING:** Be aware that the coordinates of the DSM are coordinates in the right handed system, where the origin lies in the lower left corner."
   ]
  }
 ],
 "metadata": {
  "kernelspec": {
   "display_name": "Python 3.6.9 64-bit",
   "language": "python",
   "name": "python36964bit57c180228893457993883894fca276d5"
  },
  "language_info": {
   "codemirror_mode": {
    "name": "ipython",
    "version": 3
   },
   "file_extension": ".py",
   "mimetype": "text/x-python",
   "name": "python",
   "nbconvert_exporter": "python",
   "pygments_lexer": "ipython3",
   "version": "3.8.5"
  }
 },
 "nbformat": 4,
 "nbformat_minor": 4
}
