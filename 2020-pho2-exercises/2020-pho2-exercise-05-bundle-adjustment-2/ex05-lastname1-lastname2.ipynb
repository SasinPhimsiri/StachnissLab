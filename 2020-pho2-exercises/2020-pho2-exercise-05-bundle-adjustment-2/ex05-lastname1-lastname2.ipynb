{
 "cells": [
  {
   "cell_type": "markdown",
   "metadata": {},
   "source": [
    "## Exercise in Photogrammetry II\n",
    "# Ex. 05 Bundle Adjustment II\n",
    "### Submission: 22.01.2021 \n",
    "### Points: 21"
   ]
  },
  {
   "cell_type": "markdown",
   "metadata": {},
   "source": [
    "\n",
    "In this exercise you need to compute the bundle adjustment described in the lecture.\n",
    "You're given the initial guess of the position of *four identical calibrated cameras* as well as *eight object points*, where each point is observed in each camera. Apart from that no further observations were made.\n",
    "Assume the rotation matrices $R_j$ to be given with $R_j=I_3$. \n",
    "Therefore the rotations $\\kappa, \\theta, \\omega$ are not included as unknowns in the bundle adjustment.\n",
    "Furthermore assume all cameras to be *euclidian cameras*.\n",
    "\n",
    "The file `data.mat` contains the calibration matrix `K`, initial estimations of the projection centers `camX_pos`, initial estimations of the object points `X` as well as observed image coordinates `camX_obs`, where the i'th observation corresponds to the i'th object.\n"
   ]
  },
  {
   "cell_type": "markdown",
   "metadata": {},
   "source": [
    "**Tasks:**\n",
    "\n",
    "1. Construct the initial parameter vector $\\textbf{p}^{(0)}$ and vector of observations $\\textbf{l}$. Which size would have the parameter vectors $\\mathbf{\\Delta k}$ and $\\mathbf{\\Delta t}$ from the lecture. (2 Points)\n",
    "2. Given the initial parameters compute the approximated observations $\\mathbf{l}^{(0)}.$\n",
    "\tPrint out the computed euclidean image coordinates of the first point in each camera to the terminal. (5 Points)\n",
    "3. \tConstruct the coefficient matrix $\\mathbf{A}^{(0)}$ given the initial parameters. Visualize the coefficient matrix by using `spy(...)` from matplotlib. The sub-matrices shown in the lecture are given by (10 Points):\n",
    "\\begin{eqnarray}\n",
    "   B_{ij} &=& \\frac{c}{\\Delta Z_{ij}}\n",
    "  \\left[ \\begin{array}{ccc}\n",
    "    -1 &  0 & \\frac{\\Delta X_{ij}}{\\Delta Z_{ij}} \\\\\n",
    "     0 & -1 & \\frac{\\Delta Y_{ij} }{ \\Delta Z_{ij}} \\\\\n",
    "  \\end{array}\\right]\n",
    "  \\end{eqnarray}\n",
    "\n",
    " \\begin{eqnarray}\n",
    "  C_{ij} &=& \\frac{c}{\\Delta Z_{ij}}\n",
    "  \\left[ \\begin{array}{ccc}\n",
    "    1 & 0 & \\frac{-\\Delta X_{ij} }{ \\Delta Z_{ij}} \\\\\n",
    "    0 & 1 & \\frac{-\\Delta Y_{ij} }{ \\Delta Z_{ij}} \\\\\n",
    "  \\end{array}\\right]\n",
    "  \\end{eqnarray}\n",
    " 4. Solve the normal equations $\\hat{\\mathbf p}=\\mathbf{p}^{(0)}+(\\mathbf{A}^T \\mathbf{A})^{+} \\mathbf{A}^T (\\mathbf{l}-\\mathbf{l}^{(0)})$.\n",
    "\tWe assume uniform uncertainty in the image coordinates without any correlation.\n",
    "\t**Note:** $\\mathbf{A}^{+}$ denotes the pseudoinverse of the matrix $\\mathbf{A}$. (1 Point)\n",
    "5. Visualize the initial and estimated parameters. Different parameters should've different colours. (3 Points)\n",
    "\n",
    "**Note:** $\\Delta X_{ij}= X_{i}-X_{0j}$, with  $X_i$= x-Coordinate of i'th object point, $X_{0j}$= x-Coordinate of projection center of j'th camera. $\\Delta Y_{ij}$, $\\Delta Z_{ij}$ analogue to this."
   ]
  },
  {
   "cell_type": "code",
   "execution_count": null,
   "metadata": {},
   "outputs": [],
   "source": [
    "import scipy.io\n",
    "import numpy as np\n",
    "import matplotlib.pyplot as plt\n",
    "from mpl_toolkits.mplot3d import Axes3D\n",
    "%matplotlib notebook"
   ]
  },
  {
   "cell_type": "markdown",
   "metadata": {},
   "source": [
    "## Load data"
   ]
  },
  {
   "cell_type": "code",
   "execution_count": null,
   "metadata": {},
   "outputs": [],
   "source": [
    "data = scipy.io.loadmat('data/data.mat')\n",
    "\n",
    "# Calibration matrix\n",
    "K = data['K'].astype(np.float32)\n",
    "c = K[0, 0]\n",
    "\n",
    "# initial point coordinates\n",
    "X = data['X0'].astype(np.float32) # [3 x 8]\n",
    "\n",
    "# observations and initial projection centers\n",
    "cameras = data['camera']\n",
    "cam0_pos = cameras[0,0][0].astype(np.float32) # projection center [3 x 1]\n",
    "cam0_obs = cameras[0,0][1].astype(np.float32) # observations [2 x 8]\n",
    "cam1_pos = cameras[1,0][0].astype(np.float32)\n",
    "cam1_obs = cameras[1,0][1].astype(np.float32)\n",
    "cam2_pos = cameras[2,0][0].astype(np.float32)\n",
    "cam2_obs = cameras[2,0][1].astype(np.float32)\n",
    "cam3_pos = cameras[3,0][0].astype(np.float32)\n",
    "cam3_obs = cameras[3,0][1].astype(np.float32)\n",
    "cam_poses = np.hstack((cam0_pos, cam1_pos, cam2_pos, cam3_pos))"
   ]
  }
 ],
 "metadata": {
  "kernelspec": {
   "display_name": "Python 3",
   "language": "python",
   "name": "python3"
  },
  "language_info": {
   "codemirror_mode": {
    "name": "ipython",
    "version": 3
   },
   "file_extension": ".py",
   "mimetype": "text/x-python",
   "name": "python",
   "nbconvert_exporter": "python",
   "pygments_lexer": "ipython3",
   "version": "3.8.5"
  }
 },
 "nbformat": 4,
 "nbformat_minor": 2
}
