{
 "cells": [
  {
   "cell_type": "markdown",
   "metadata": {},
   "source": [
    "## Exercise in Photogrammetry II\n",
    "# Ex. 03 Triangulation\n",
    "### Submission: xx.xx.xxxx \n",
    "### Points: 15"
   ]
  },
  {
   "cell_type": "markdown",
   "metadata": {},
   "source": [
    "\n",
    "In this exercise you  need to estimate the 3D position of points using the triangulation approach described in the lecture.\n",
    "\n",
    "You are given two images ```0400.jpg``` and ```0840.jpg```, and a set of point correspondences stored in the file ```x1x2.mat```. \n",
    "Here $x1$ denotes the pixel coordinates in the first image and $x2$ the pixel coordinates in the second image. \n",
    "\n",
    "Assume for both cameras affine sensors with principal point $x_h = [300, 240]^T$ pel, camera constant\n",
    "$c = 522$ pel, shear $s = 0$ and scale difference $m = 0$.\n",
    "\n",
    "For this exercise we provide the parameters of the relative orientation between the cameras.\n",
    "\n",
    "**DATA:** Extract the data from the provided zip file with the password: photo"
   ]
  },
  {
   "cell_type": "markdown",
   "metadata": {},
   "source": [
    "**Tasks**:\n",
    "\n",
    "1. Setup the calibration matrix and print the result. Given the image coordinates $x1$ and $x2$ compute the direction for each point in the corresponding camera coordinate system. (2 Points)\n",
    "2. Visualize the centers of projection of the first and second camera. Additionally visualize the direction of each point w.r.t. the coordinate system of the first camera.\tDirections which correspond to the same point should have the same color. Use a threedimensional plot to see where the corresponding directions should intersect. (**Hint:** use `quiver(...)` for plotting the directions) (5 Points)\n",
    "3. Write a function that performs triangulation as presented in the lecture. Test your function for the given coordinates and extend your visualization (of task 2) by the 3D points. (3 Points)\n",
    "4. Check if your triangulation is correct by projecting the 3D points to both images and visualize your results. (5 points)\n",
    "\t"
   ]
  },
  {
   "cell_type": "code",
   "execution_count": null,
   "metadata": {},
   "outputs": [],
   "source": [
    "import matplotlib.image\n",
    "import scipy.io\n",
    "import numpy as np\n",
    "import matplotlib.pyplot as plt\n",
    "%matplotlib notebook\n",
    "\n",
    "R = np.array([[0.7201, -0.6648, 0.1988],\n",
    "              [0.6533,  0.7461, 0.1286],\n",
    "              [-0.2338, 0.0373, 0.9716]])\n",
    "# Baseline\n",
    "b = np.array([[59.5340], \n",
    "              [-39.2248],\n",
    "              [1]])\n",
    "\n",
    "pts1 = scipy.io.loadmat(\"./data/x1x2.mat\")[\"x1\"]\n",
    "pts2 = scipy.io.loadmat(\"./data/x1x2.mat\")[\"x2\"]\n",
    "\n",
    "img1 = matplotlib.image.imread(\"data/0400.jpg\")\n",
    "img2 = matplotlib.image.imread(\"data/0840.jpg\")\n",
    "I = np.hstack([img1,img2])\n",
    "plt.figure()\n",
    "plt.imshow(I,cmap='gray')\n",
    "for i in range(pts1.shape[0]):\n",
    "    plt.plot([pts1[i,1],pts2[i,1]+img1.shape[1]],[pts1[i,0],pts2[i,0]],'-')\n",
    "plt.show()"
   ]
  }
 ],
 "metadata": {
  "kernelspec": {
   "display_name": "Python 3",
   "language": "python",
   "name": "python3"
  },
  "language_info": {
   "codemirror_mode": {
    "name": "ipython",
    "version": 3
   },
   "file_extension": ".py",
   "mimetype": "text/x-python",
   "name": "python",
   "nbconvert_exporter": "python",
   "pygments_lexer": "ipython3",
   "version": "3.8.5"
  }
 },
 "nbformat": 4,
 "nbformat_minor": 2
}
